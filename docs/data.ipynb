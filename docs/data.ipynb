{
  "nbformat": 4,
  "nbformat_minor": 0,
  "metadata": {
    "colab": {
      "name": "data.ipynb",
      "provenance": [],
      "collapsed_sections": [],
      "toc_visible": true
    },
    "kernelspec": {
      "name": "python3",
      "display_name": "Python 3"
    }
  },
  "cells": [
    {
      "cell_type": "markdown",
      "metadata": {
        "id": "IM2TTvKcX-Lt"
      },
      "source": [
        "# Market Data\n",
        "\n",
        "StocksML uses stock market price data as the basis for training models to learn market trading strategies. A small set of demonstration data is included in the StocksML package, but generally users will need to download or otherwise supply their own price data.  \n",
        "\n"
      ]
    },
    {
      "cell_type": "markdown",
      "metadata": {
        "id": "Nulft_eLnBK5"
      },
      "source": [
        "## Download from IEX Cloud\n",
        "The ```FetchData``` function in StocksML can be used to download data from [IEX Cloud](https://iexcloud.io/). An account is needed (free or paid tier) on IEX to retrieve an API token from the [console screen](https://iexcloud.io/console).  Copy the token and paste it in to the ```apikey``` parameter. A list of desired ticker symbols and a start/end date range should be supplied. These will be stored as CSV files in the specified location.  \n",
        "\n",
        "Note that this will count towards your monthly quota on IEX.\n",
        "\n",
        "Here we download a small sample of Google and Exxon price data. "
      ]
    },
    {
      "cell_type": "code",
      "metadata": {
        "colab": {
          "base_uri": "https://localhost:8080/"
        },
        "id": "yQujTSAHm6s4",
        "outputId": "5e97a938-e8b2-45c0-92dc-ee49ee0e1ac4"
      },
      "source": [
        "!pip install stocksml >/dev/null\n",
        "!mkdir data >/dev/null\n",
        "from stocksml import FetchData\n",
        "\n",
        "FetchData(['GOOG', 'XOM'], apikey='xxxxxxxxxxxxxxxx', start='2020-08-01', stop='2020-12-31', path='./data')"
      ],
      "execution_count": 11,
      "outputs": [
        {
          "output_type": "stream",
          "text": [
            "fetching GOOG data... 106 days\n",
            "fetching XOM data... 106 days\n"
          ],
          "name": "stdout"
        }
      ]
    },
    {
      "cell_type": "markdown",
      "metadata": {
        "id": "gc8sOk-2m6-8"
      },
      "source": [
        "Each ticker symbol is stored in a separate CSV file containing daily high, low, open, close and volume columns with a date column in yyyy-mm-dd format.\n"
      ]
    },
    {
      "cell_type": "code",
      "metadata": {
        "colab": {
          "base_uri": "https://localhost:8080/"
        },
        "id": "3fE6gpPOqdT1",
        "outputId": "7916e698-b2f0-4d8f-aaa9-98a207a3bc49"
      },
      "source": [
        "!ls data/"
      ],
      "execution_count": 16,
      "outputs": [
        {
          "output_type": "stream",
          "text": [
            "GOOG.csv  XOM.csv\n"
          ],
          "name": "stdout"
        }
      ]
    },
    {
      "cell_type": "code",
      "metadata": {
        "colab": {
          "base_uri": "https://localhost:8080/"
        },
        "id": "0Cqi56V6qwsE",
        "outputId": "d4db9624-a413-48b0-8dae-3b95042f3f92"
      },
      "source": [
        "!head data/GOOG.csv"
      ],
      "execution_count": 17,
      "outputs": [
        {
          "output_type": "stream",
          "text": [
            "date,open,high,low,close,volume\n",
            "2020-08-03,1486.64,1490.47,1465.64,1474.45,2331514\n",
            "2020-08-04,1476.57,1485.56,1458.65,1464.97,1903489\n",
            "2020-08-05,1469.3,1482.41,1463.46,1473.61,1979957\n",
            "2020-08-06,1471.75,1502.39,1466.0,1500.1,1995368\n",
            "2020-08-07,1500.0,1516.845,1481.64,1494.49,1577826\n",
            "2020-08-10,1487.18,1504.075,1473.08,1496.1,1289530\n",
            "2020-08-11,1492.44,1510.0,1478.0,1480.32,1454365\n",
            "2020-08-12,1485.58,1512.3859,1485.25,1506.62,1437655\n",
            "2020-08-13,1510.34,1537.25,1508.005,1518.45,1455208\n"
          ],
          "name": "stdout"
        }
      ]
    },
    {
      "cell_type": "markdown",
      "metadata": {
        "id": "tBPY64x2rP23"
      },
      "source": [
        "Data from any other source may be used instead of IEX cloud if it can be represented in this same format."
      ]
    },
    {
      "cell_type": "markdown",
      "metadata": {
        "id": "G8ScN9glrgFy"
      },
      "source": [
        "## Load Symbol DataFrame\n",
        "\n",
        "Appropriately named and formatted CSV files can be loaded in to a single Symbol DataFrame (sdf) using ```LoadData```.  The sdf provides a convenient single location for all market data needed later on for model training and trading strategy simulation.\n",
        "\n",
        "All files in the specified directory can be loaded by leaving the ```symbols``` parameter as None."
      ]
    },
    {
      "cell_type": "code",
      "metadata": {
        "colab": {
          "base_uri": "https://localhost:8080/",
          "height": 235
        },
        "id": "cOkfry0b3-h2",
        "outputId": "de950a6a-63f4-497b-9ed1-487c106f8058"
      },
      "source": [
        "from stocksml import LoadData\n",
        "\n",
        "sdf, symbols = LoadData(symbols=None, path='./data')\n",
        "\n",
        "sdf.head()"
      ],
      "execution_count": 18,
      "outputs": [
        {
          "output_type": "execute_result",
          "data": {
            "text/html": [
              "<div>\n",
              "<style scoped>\n",
              "    .dataframe tbody tr th:only-of-type {\n",
              "        vertical-align: middle;\n",
              "    }\n",
              "\n",
              "    .dataframe tbody tr th {\n",
              "        vertical-align: top;\n",
              "    }\n",
              "\n",
              "    .dataframe thead th {\n",
              "        text-align: right;\n",
              "    }\n",
              "</style>\n",
              "<table border=\"1\" class=\"dataframe\">\n",
              "  <thead>\n",
              "    <tr style=\"text-align: right;\">\n",
              "      <th></th>\n",
              "      <th>xom_open</th>\n",
              "      <th>xom_high</th>\n",
              "      <th>xom_low</th>\n",
              "      <th>xom_close</th>\n",
              "      <th>xom_volume</th>\n",
              "      <th>goog_open</th>\n",
              "      <th>goog_high</th>\n",
              "      <th>goog_low</th>\n",
              "      <th>goog_close</th>\n",
              "      <th>goog_volume</th>\n",
              "    </tr>\n",
              "    <tr>\n",
              "      <th>date</th>\n",
              "      <th></th>\n",
              "      <th></th>\n",
              "      <th></th>\n",
              "      <th></th>\n",
              "      <th></th>\n",
              "      <th></th>\n",
              "      <th></th>\n",
              "      <th></th>\n",
              "      <th></th>\n",
              "      <th></th>\n",
              "    </tr>\n",
              "  </thead>\n",
              "  <tbody>\n",
              "    <tr>\n",
              "      <th>2020-08-03</th>\n",
              "      <td>42.05</td>\n",
              "      <td>42.50</td>\n",
              "      <td>41.47</td>\n",
              "      <td>42.25</td>\n",
              "      <td>23040541</td>\n",
              "      <td>1486.64</td>\n",
              "      <td>1490.470</td>\n",
              "      <td>1465.64</td>\n",
              "      <td>1474.45</td>\n",
              "      <td>2331514</td>\n",
              "    </tr>\n",
              "    <tr>\n",
              "      <th>2020-08-04</th>\n",
              "      <td>42.34</td>\n",
              "      <td>43.60</td>\n",
              "      <td>42.24</td>\n",
              "      <td>43.47</td>\n",
              "      <td>17724024</td>\n",
              "      <td>1476.57</td>\n",
              "      <td>1485.560</td>\n",
              "      <td>1458.65</td>\n",
              "      <td>1464.97</td>\n",
              "      <td>1903489</td>\n",
              "    </tr>\n",
              "    <tr>\n",
              "      <th>2020-08-05</th>\n",
              "      <td>44.15</td>\n",
              "      <td>44.31</td>\n",
              "      <td>43.53</td>\n",
              "      <td>43.85</td>\n",
              "      <td>17445784</td>\n",
              "      <td>1469.30</td>\n",
              "      <td>1482.410</td>\n",
              "      <td>1463.46</td>\n",
              "      <td>1473.61</td>\n",
              "      <td>1979957</td>\n",
              "    </tr>\n",
              "    <tr>\n",
              "      <th>2020-08-06</th>\n",
              "      <td>43.40</td>\n",
              "      <td>43.90</td>\n",
              "      <td>43.25</td>\n",
              "      <td>43.64</td>\n",
              "      <td>14434935</td>\n",
              "      <td>1471.75</td>\n",
              "      <td>1502.390</td>\n",
              "      <td>1466.00</td>\n",
              "      <td>1500.10</td>\n",
              "      <td>1995368</td>\n",
              "    </tr>\n",
              "    <tr>\n",
              "      <th>2020-08-07</th>\n",
              "      <td>43.23</td>\n",
              "      <td>43.52</td>\n",
              "      <td>42.81</td>\n",
              "      <td>43.44</td>\n",
              "      <td>18757929</td>\n",
              "      <td>1500.00</td>\n",
              "      <td>1516.845</td>\n",
              "      <td>1481.64</td>\n",
              "      <td>1494.49</td>\n",
              "      <td>1577826</td>\n",
              "    </tr>\n",
              "  </tbody>\n",
              "</table>\n",
              "</div>"
            ],
            "text/plain": [
              "            xom_open  xom_high  xom_low  ...  goog_low  goog_close  goog_volume\n",
              "date                                     ...                                   \n",
              "2020-08-03     42.05     42.50    41.47  ...   1465.64     1474.45      2331514\n",
              "2020-08-04     42.34     43.60    42.24  ...   1458.65     1464.97      1903489\n",
              "2020-08-05     44.15     44.31    43.53  ...   1463.46     1473.61      1979957\n",
              "2020-08-06     43.40     43.90    43.25  ...   1466.00     1500.10      1995368\n",
              "2020-08-07     43.23     43.52    42.81  ...   1481.64     1494.49      1577826\n",
              "\n",
              "[5 rows x 10 columns]"
            ]
          },
          "metadata": {
            "tags": []
          },
          "execution_count": 18
        }
      ]
    },
    {
      "cell_type": "markdown",
      "metadata": {
        "id": "-YS-Jjk1tKl8"
      },
      "source": [
        "## Build Feature DataFrame\n",
        "\n",
        "The raw price data is not used directly by the models to learn a market strategy. Instead a set of training features must first be created to represent the data in a way that is more conducive to model learning.  These are held in a feature dataframe (fdf).\n",
        "\n",
        "These features are currently fixed within the ```BuildData``` function and are a work in progress, likely to be expanded in the future.  They may potentially be made user configurable at a later date.\n",
        "\n",
        "For now, all that is required to build an fdf is to pass the sdf to ```BuildData```."
      ]
    },
    {
      "cell_type": "code",
      "metadata": {
        "colab": {
          "base_uri": "https://localhost:8080/",
          "height": 269
        },
        "id": "coC_gJMPtRbR",
        "outputId": "e15fc62c-fbcd-47c3-d504-9cc76e0fe3fb"
      },
      "source": [
        "fdf = BuildData(sdf)\n",
        "\n",
        "fdf.head()"
      ],
      "execution_count": 19,
      "outputs": [
        {
          "output_type": "stream",
          "text": [
            "building GOOG data...\n",
            "building XOM data...\n"
          ],
          "name": "stdout"
        },
        {
          "output_type": "execute_result",
          "data": {
            "text/html": [
              "<div>\n",
              "<style scoped>\n",
              "    .dataframe tbody tr th:only-of-type {\n",
              "        vertical-align: middle;\n",
              "    }\n",
              "\n",
              "    .dataframe tbody tr th {\n",
              "        vertical-align: top;\n",
              "    }\n",
              "\n",
              "    .dataframe thead th {\n",
              "        text-align: right;\n",
              "    }\n",
              "</style>\n",
              "<table border=\"1\" class=\"dataframe\">\n",
              "  <thead>\n",
              "    <tr style=\"text-align: right;\">\n",
              "      <th></th>\n",
              "      <th>goog0</th>\n",
              "      <th>goog1</th>\n",
              "      <th>goog2</th>\n",
              "      <th>goog3</th>\n",
              "      <th>goog4</th>\n",
              "      <th>xom0</th>\n",
              "      <th>xom1</th>\n",
              "      <th>xom2</th>\n",
              "      <th>xom3</th>\n",
              "      <th>xom4</th>\n",
              "    </tr>\n",
              "    <tr>\n",
              "      <th>date</th>\n",
              "      <th></th>\n",
              "      <th></th>\n",
              "      <th></th>\n",
              "      <th></th>\n",
              "      <th></th>\n",
              "      <th></th>\n",
              "      <th></th>\n",
              "      <th></th>\n",
              "      <th></th>\n",
              "      <th></th>\n",
              "    </tr>\n",
              "  </thead>\n",
              "  <tbody>\n",
              "    <tr>\n",
              "      <th>2020-08-03</th>\n",
              "      <td>-0.014814</td>\n",
              "      <td>-0.017526</td>\n",
              "      <td>-0.010784</td>\n",
              "      <td>-0.015605</td>\n",
              "      <td>-0.300029</td>\n",
              "      <td>-0.000670</td>\n",
              "      <td>-0.000945</td>\n",
              "      <td>-0.001423</td>\n",
              "      <td>-0.000581</td>\n",
              "      <td>0.159583</td>\n",
              "    </tr>\n",
              "    <tr>\n",
              "      <th>2020-08-04</th>\n",
              "      <td>-0.043365</td>\n",
              "      <td>-0.066009</td>\n",
              "      <td>-0.054701</td>\n",
              "      <td>-0.071722</td>\n",
              "      <td>-0.266908</td>\n",
              "      <td>0.150895</td>\n",
              "      <td>0.120418</td>\n",
              "      <td>0.042882</td>\n",
              "      <td>0.161771</td>\n",
              "      <td>0.510642</td>\n",
              "    </tr>\n",
              "    <tr>\n",
              "      <th>2020-08-05</th>\n",
              "      <td>-0.033192</td>\n",
              "      <td>0.015996</td>\n",
              "      <td>-0.042706</td>\n",
              "      <td>0.035871</td>\n",
              "      <td>0.097373</td>\n",
              "      <td>0.094690</td>\n",
              "      <td>0.198671</td>\n",
              "      <td>0.273211</td>\n",
              "      <td>0.048568</td>\n",
              "      <td>-0.159542</td>\n",
              "    </tr>\n",
              "    <tr>\n",
              "      <th>2020-08-06</th>\n",
              "      <td>0.101999</td>\n",
              "      <td>0.000117</td>\n",
              "      <td>0.000026</td>\n",
              "      <td>0.141292</td>\n",
              "      <td>0.402525</td>\n",
              "      <td>-0.054855</td>\n",
              "      <td>-0.042989</td>\n",
              "      <td>-0.110557</td>\n",
              "      <td>-0.027508</td>\n",
              "      <td>0.256103</td>\n",
              "    </tr>\n",
              "    <tr>\n",
              "      <th>2020-08-07</th>\n",
              "      <td>0.068573</td>\n",
              "      <td>0.090926</td>\n",
              "      <td>0.113664</td>\n",
              "      <td>-0.048245</td>\n",
              "      <td>-0.115027</td>\n",
              "      <td>-0.051360</td>\n",
              "      <td>-0.067442</td>\n",
              "      <td>-0.026588</td>\n",
              "      <td>-0.026349</td>\n",
              "      <td>0.215602</td>\n",
              "    </tr>\n",
              "  </tbody>\n",
              "</table>\n",
              "</div>"
            ],
            "text/plain": [
              "               goog0     goog1     goog2  ...      xom2      xom3      xom4\n",
              "date                                      ...                              \n",
              "2020-08-03 -0.014814 -0.017526 -0.010784  ... -0.001423 -0.000581  0.159583\n",
              "2020-08-04 -0.043365 -0.066009 -0.054701  ...  0.042882  0.161771  0.510642\n",
              "2020-08-05 -0.033192  0.015996 -0.042706  ...  0.273211  0.048568 -0.159542\n",
              "2020-08-06  0.101999  0.000117  0.000026  ... -0.110557 -0.027508  0.256103\n",
              "2020-08-07  0.068573  0.090926  0.113664  ... -0.026588 -0.026349  0.215602\n",
              "\n",
              "[5 rows x 10 columns]"
            ]
          },
          "metadata": {
            "tags": []
          },
          "execution_count": 19
        }
      ]
    },
    {
      "cell_type": "markdown",
      "metadata": {
        "id": "jmOo3tNdudiK"
      },
      "source": [
        "Now we are ready to build a model that can learn a market strategy from this data."
      ]
    }
  ]
}