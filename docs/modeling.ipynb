{
  "nbformat": 4,
  "nbformat_minor": 0,
  "metadata": {
    "colab": {
      "name": "modeling.ipynb",
      "provenance": [],
      "collapsed_sections": [],
      "toc_visible": true
    },
    "kernelspec": {
      "name": "python3",
      "display_name": "Python 3"
    }
  },
  "cells": [
    {
      "cell_type": "markdown",
      "metadata": {
        "id": "D-FGW3xgcBWU"
      },
      "source": [
        "# Defining Models\n",
        "\n",
        "Models can be created through a simple structure that defines each hidden layer. Keras and Tensorflow are used under the covers so many of the common layer types available in Keras are passed through including:\n",
        "- Dense Neural Network\n",
        "- Recurrent Neural Network\n",
        "- Long Short-Term Memory Network\n",
        "- Convolutional Neural Network\n",
        "- Dropout\n",
        "\n",
        "The desired output size of each layer must also be defined. Activations and other settings are fixed. StocksML will attempt to fit together layers correctly and align with the training data, but some care must be taken to define things in a way that makes sense.\n",
        "\n",
        "StocksML uses an unsupervised adversarial algorithm for learning new trading strategies. This requires at least two models to learn from each other. Additional models (specified by the ```count``` parameter) are created by copying the first model and re-initializing the initial weights.  The ```BuildModel``` function returns a list of Keras models and a numpy array of training data appropriately shaped for the model set. \n",
        "\n",
        "First lets create a dense neural network with three hidden layers. Dropout layers are typically inserted to help the model generalize and prevent overfitting."
      ]
    },
    {
      "cell_type": "code",
      "metadata": {
        "colab": {
          "base_uri": "https://localhost:8080/"
        },
        "id": "pErXt3n7C87y",
        "outputId": "c5a71b10-1ab1-446b-cf8d-f8b0ebd66497"
      },
      "source": [
        "!pip install --extra-index-url https://test.pypi.org/simple/ stocksml==0.0.1rc18 >/dev/null\n",
        "from stocksml import LoadData, BuildData, BuildModel \n",
        "\n",
        "sdf, symbols = LoadData(symbols=['SPY','BND', 'VNQI', 'VIXM'])\n",
        "fdf = BuildData(sdf)"
      ],
      "execution_count": 1,
      "outputs": [
        {
          "output_type": "stream",
          "text": [
            "building BND data...\n",
            "building SPY data...\n",
            "building VIXM data...\n",
            "building VNQI data...\n"
          ],
          "name": "stdout"
        }
      ]
    },
    {
      "cell_type": "code",
      "metadata": {
        "colab": {
          "base_uri": "https://localhost:8080/"
        },
        "id": "Olqex-DZEVYl",
        "outputId": "9cf18e25-8340-49d2-91e1-2d06d92a0d07"
      },
      "source": [
        "models, dx = BuildModel(fdf, len(symbols), count=2, layers=[('dnn',128),\n",
        "                                                            ('drop', 0.25),\n",
        "                                                            ('dnn',64),\n",
        "                                                            ('drop', 0.25),\n",
        "                                                            ('dnn',32)])\n",
        "print('training data shape', dx.shape)\n",
        "models[0].summary()"
      ],
      "execution_count": 7,
      "outputs": [
        {
          "output_type": "stream",
          "text": [
            "training data shape (1036, 20)\n",
            "Model: \"model\"\n",
            "__________________________________________________________________________________________________\n",
            "Layer (type)                    Output Shape         Param #     Connected to                     \n",
            "==================================================================================================\n",
            "input (InputLayer)              [(None, 20)]         0                                            \n",
            "__________________________________________________________________________________________________\n",
            "dnn_0 (Dense)                   (None, 128)          2688        input[0][0]                      \n",
            "__________________________________________________________________________________________________\n",
            "drop_1 (Dropout)                (None, 128)          0           dnn_0[0][0]                      \n",
            "__________________________________________________________________________________________________\n",
            "dnn_2 (Dense)                   (None, 64)           8256        drop_1[0][0]                     \n",
            "__________________________________________________________________________________________________\n",
            "drop_3 (Dropout)                (None, 64)           0           dnn_2[0][0]                      \n",
            "__________________________________________________________________________________________________\n",
            "dnn_4 (Dense)                   (None, 32)           2080        drop_3[0][0]                     \n",
            "__________________________________________________________________________________________________\n",
            "action (Dense)                  (None, 5)            165         dnn_4[0][0]                      \n",
            "__________________________________________________________________________________________________\n",
            "symbol (Dense)                  (None, 4)            132         dnn_4[0][0]                      \n",
            "__________________________________________________________________________________________________\n",
            "limit (Dense)                   (None, 1)            33          dnn_4[0][0]                      \n",
            "==================================================================================================\n",
            "Total params: 13,354\n",
            "Trainable params: 13,354\n",
            "Non-trainable params: 0\n",
            "__________________________________________________________________________________________________\n"
          ],
          "name": "stdout"
        }
      ]
    },
    {
      "cell_type": "markdown",
      "metadata": {
        "id": "vGlnAxDaWPTw"
      },
      "source": [
        "The dense and dropout layers we specified are created in the middle of the model (the 'hidden' portion) with the output sizes we provided. An input layer is added at the start and shaped to fit our provided feature dataframe (```fdf```). The 2-D numpy array ```dx``` is built from the feature dataframe returned for use in training later on.\n",
        "\n",
        "Every model must end with three output layers: action, symbol, and limit.  These output layers represent the \"trading strategy\" that is learned, including what action to take in the market (i.e. buy, sell, hold), what ticker symbol to use, and what limit price to set.\n"
      ]
    },
    {
      "cell_type": "markdown",
      "metadata": {
        "id": "sYN5dXfhdR_t"
      },
      "source": [
        "## Recurrent Neural Networks\n",
        "\n",
        "When a recurrent neural network (rnn or lstm) a third dimension is needed in the training data.  This third dimension represents time and is created by stacking previous days of data. Use the ```depth``` parameter to control the size of the time stacking.  \n",
        "\n",
        "The recurrent layers can pass through the third dimension to each other, but this must be dropped when passing to a dense layer or the final output layers.  This is handled automatically by StocksML.\n"
      ]
    },
    {
      "cell_type": "code",
      "metadata": {
        "colab": {
          "base_uri": "https://localhost:8080/"
        },
        "id": "VZae7Xe1D6cJ",
        "outputId": "72b1352f-38f4-42fa-c7ea-ad06b3c0ffd3"
      },
      "source": [
        "models, dx = BuildModel(fdf, len(symbols), count=2, \n",
        "                        depth=5, layers=[('rnn',64),\n",
        "                                         ('drop',0.25),\n",
        "                                         ('rnn',32),\n",
        "                                         ('drop',0.25),\n",
        "                                         ('dnn',32)])\n",
        "print('training data shape', dx.shape)\n",
        "models[0].summary()"
      ],
      "execution_count": 9,
      "outputs": [
        {
          "output_type": "stream",
          "text": [
            "training data shape (1036, 5, 20)\n",
            "Model: \"model\"\n",
            "__________________________________________________________________________________________________\n",
            "Layer (type)                    Output Shape         Param #     Connected to                     \n",
            "==================================================================================================\n",
            "input (InputLayer)              [(None, 5, 20)]      0                                            \n",
            "__________________________________________________________________________________________________\n",
            "rnn_0 (SimpleRNN)               (None, 5, 64)        5440        input[0][0]                      \n",
            "__________________________________________________________________________________________________\n",
            "drop_1 (Dropout)                (None, 5, 64)        0           rnn_0[0][0]                      \n",
            "__________________________________________________________________________________________________\n",
            "rnn_2 (SimpleRNN)               (None, 32)           3104        drop_1[0][0]                     \n",
            "__________________________________________________________________________________________________\n",
            "drop_3 (Dropout)                (None, 32)           0           rnn_2[0][0]                      \n",
            "__________________________________________________________________________________________________\n",
            "dnn_4 (Dense)                   (None, 32)           1056        drop_3[0][0]                     \n",
            "__________________________________________________________________________________________________\n",
            "action (Dense)                  (None, 5)            165         dnn_4[0][0]                      \n",
            "__________________________________________________________________________________________________\n",
            "symbol (Dense)                  (None, 4)            132         dnn_4[0][0]                      \n",
            "__________________________________________________________________________________________________\n",
            "limit (Dense)                   (None, 1)            33          dnn_4[0][0]                      \n",
            "==================================================================================================\n",
            "Total params: 9,930\n",
            "Trainable params: 9,930\n",
            "Non-trainable params: 0\n",
            "__________________________________________________________________________________________________\n"
          ],
          "name": "stdout"
        }
      ]
    },
    {
      "cell_type": "markdown",
      "metadata": {
        "id": "6L2wa52ZcGn9"
      },
      "source": [
        "We see that the input and rnn_0 layers have an extra dimension in the output shape. This is gone in the output of rnn_2 passed to dnn_4.  The shape of the training data returned in ```dx``` is now 3 dimensional."
      ]
    },
    {
      "cell_type": "markdown",
      "metadata": {
        "id": "gkc_KfjFdMyF"
      },
      "source": [
        "## Convolutional Neural Network\n",
        "\n",
        "As with recurrent neural networks, convolutional neural networks also need a third time dimension. When using a CNN, the third dimension is suppressed with an extra Flatten layer inserted afterwards."
      ]
    },
    {
      "cell_type": "code",
      "metadata": {
        "id": "ks_d6bNzh8a_",
        "colab": {
          "base_uri": "https://localhost:8080/"
        },
        "outputId": "a2347549-46f3-4332-aa0c-315ccd1e8491"
      },
      "source": [
        "models, dx = BuildModel(fdf, len(symbols), count=2, \n",
        "                        depth=5, layers=[('cnn',32),\n",
        "                                         ('drop',0.25),\n",
        "                                         ('cnn',16),\n",
        "                                         ('drop',0.25),\n",
        "                                         ('dnn',32)])\n",
        "print('training data shape', dx.shape)\n",
        "models[0].summary()"
      ],
      "execution_count": 10,
      "outputs": [
        {
          "output_type": "stream",
          "text": [
            "training data shape (1036, 5, 20)\n",
            "Model: \"model\"\n",
            "__________________________________________________________________________________________________\n",
            "Layer (type)                    Output Shape         Param #     Connected to                     \n",
            "==================================================================================================\n",
            "input (InputLayer)              [(None, 5, 20)]      0                                            \n",
            "__________________________________________________________________________________________________\n",
            "cnn_0 (Conv1D)                  (None, 3, 32)        1952        input[0][0]                      \n",
            "__________________________________________________________________________________________________\n",
            "drop_1 (Dropout)                (None, 3, 32)        0           cnn_0[0][0]                      \n",
            "__________________________________________________________________________________________________\n",
            "cnn_2 (Conv1D)                  (None, 1, 16)        1552        drop_1[0][0]                     \n",
            "__________________________________________________________________________________________________\n",
            "flatten_2 (Flatten)             (None, 16)           0           cnn_2[0][0]                      \n",
            "__________________________________________________________________________________________________\n",
            "drop_3 (Dropout)                (None, 16)           0           flatten_2[0][0]                  \n",
            "__________________________________________________________________________________________________\n",
            "dnn_4 (Dense)                   (None, 32)           544         drop_3[0][0]                     \n",
            "__________________________________________________________________________________________________\n",
            "action (Dense)                  (None, 5)            165         dnn_4[0][0]                      \n",
            "__________________________________________________________________________________________________\n",
            "symbol (Dense)                  (None, 4)            132         dnn_4[0][0]                      \n",
            "__________________________________________________________________________________________________\n",
            "limit (Dense)                   (None, 1)            33          dnn_4[0][0]                      \n",
            "==================================================================================================\n",
            "Total params: 4,378\n",
            "Trainable params: 4,378\n",
            "Non-trainable params: 0\n",
            "__________________________________________________________________________________________________\n"
          ],
          "name": "stdout"
        }
      ]
    },
    {
      "cell_type": "markdown",
      "metadata": {
        "id": "ktdyrJ-0ihza"
      },
      "source": [
        "Here we see that the cnn_0 layer passed 3-D data to the next cnn_2 layer, but then a flatten layer is automatically inserted before passing to the dense layers.  As with the recurrent models, the training data in ```dx``` is now 3-D."
      ]
    },
    {
      "cell_type": "markdown",
      "metadata": {
        "id": "2unEPIb2jf9J"
      },
      "source": [
        "## Limiting Symbol Choices\n",
        "\n",
        "One of the three output layers (symbol) decides which ticker symbol to use in trading for the corresponding action and limit.  This symbol must be present in the feature dataframe (fdf), but the models don't actually care about that. They simply need to know what the maximum number of symbols is that they are going to be choosing from.\n",
        "\n",
        "Sometimes it is desireable to restrict the ticker symbols used for actual trading to just a subset of what is in the training data.  In this case, the ```choices``` parameter can be reduced to the desired value.  Later on during training, this must be remembered and preserved for accurate strategy learning."
      ]
    },
    {
      "cell_type": "code",
      "metadata": {
        "colab": {
          "base_uri": "https://localhost:8080/"
        },
        "id": "Tc-TKBwjlvLf",
        "outputId": "355dbd62-bd05-42bd-ecfb-e8492e01cbde"
      },
      "source": [
        "models, dx = BuildModel(fdf, 2, count=2, layers=[('dnn',128),('dnn',64),('dnn',32)])\n",
        "models[0].summary()"
      ],
      "execution_count": 11,
      "outputs": [
        {
          "output_type": "stream",
          "text": [
            "Model: \"model\"\n",
            "__________________________________________________________________________________________________\n",
            "Layer (type)                    Output Shape         Param #     Connected to                     \n",
            "==================================================================================================\n",
            "input (InputLayer)              [(None, 20)]         0                                            \n",
            "__________________________________________________________________________________________________\n",
            "dnn_0 (Dense)                   (None, 128)          2688        input[0][0]                      \n",
            "__________________________________________________________________________________________________\n",
            "dnn_1 (Dense)                   (None, 64)           8256        dnn_0[0][0]                      \n",
            "__________________________________________________________________________________________________\n",
            "dnn_2 (Dense)                   (None, 32)           2080        dnn_1[0][0]                      \n",
            "__________________________________________________________________________________________________\n",
            "action (Dense)                  (None, 5)            165         dnn_2[0][0]                      \n",
            "__________________________________________________________________________________________________\n",
            "symbol (Dense)                  (None, 2)            66          dnn_2[0][0]                      \n",
            "__________________________________________________________________________________________________\n",
            "limit (Dense)                   (None, 1)            33          dnn_2[0][0]                      \n",
            "==================================================================================================\n",
            "Total params: 13,288\n",
            "Trainable params: 13,288\n",
            "Non-trainable params: 0\n",
            "__________________________________________________________________________________________________\n"
          ],
          "name": "stdout"
        }
      ]
    },
    {
      "cell_type": "markdown",
      "metadata": {
        "id": "qISnpj_Il43r"
      },
      "source": [
        "The size of the symbol output layer tracks to the value passed in to the ```choices``` parameter."
      ]
    },
    {
      "cell_type": "markdown",
      "metadata": {
        "id": "tyr2QFIHjCL-"
      },
      "source": [
        "## Advanced Models\n",
        "\n",
        "If you are comfortable using Keras directly, you can certainly build your own models with whatever advanced features you desire.  The only constraint is that they must have one input layer and three output layers corresponding to action, symbol and limit as demonstrated above.  It is likely easiest to continue to use the ```BuildModel``` function to construct the training data array ```dx``` even if ignoring the model list returned.  The other option is augmenting the model list with additional advanced models of your own, they need not all be the same."
      ]
    }
  ]
}